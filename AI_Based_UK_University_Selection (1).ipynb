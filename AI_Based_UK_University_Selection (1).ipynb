{
 "cells": [
  {
   "cell_type": "code",
   "execution_count": 83,
   "metadata": {
    "id": "JSbMGgMWsNKJ"
   },
   "outputs": [],
   "source": [
    "import pandas as pd\n",
    "import numpy as np"
   ]
  },
  {
   "cell_type": "code",
   "execution_count": 84,
   "metadata": {
    "id": "pdnC7aTCtgQq"
   },
   "outputs": [],
   "source": [
    "UniversityData = pd.read_csv(\"University Recommendation System.csv\")"
   ]
  },
  {
   "cell_type": "code",
   "execution_count": 85,
   "metadata": {
    "colab": {
     "base_uri": "https://localhost:8080/",
     "height": 206
    },
    "id": "W_at7lCjuA9r",
    "outputId": "2457bc2f-04ad-44a9-e62a-5de649546e4f"
   },
   "outputs": [
    {
     "data": {
      "text/html": [
       "<div>\n",
       "<style scoped>\n",
       "    .dataframe tbody tr th:only-of-type {\n",
       "        vertical-align: middle;\n",
       "    }\n",
       "\n",
       "    .dataframe tbody tr th {\n",
       "        vertical-align: top;\n",
       "    }\n",
       "\n",
       "    .dataframe thead th {\n",
       "        text-align: right;\n",
       "    }\n",
       "</style>\n",
       "<table border=\"1\" class=\"dataframe\">\n",
       "  <thead>\n",
       "    <tr style=\"text-align: right;\">\n",
       "      <th></th>\n",
       "      <th>ILTES</th>\n",
       "      <th>TOEFL</th>\n",
       "      <th>SAT</th>\n",
       "      <th>GRE</th>\n",
       "      <th>WRITING</th>\n",
       "      <th>VERBAL</th>\n",
       "      <th>UniversityName</th>\n",
       "    </tr>\n",
       "  </thead>\n",
       "  <tbody>\n",
       "    <tr>\n",
       "      <th>0</th>\n",
       "      <td>9.0</td>\n",
       "      <td>191</td>\n",
       "      <td>1600</td>\n",
       "      <td>340</td>\n",
       "      <td>82.002744</td>\n",
       "      <td>202.935536</td>\n",
       "      <td>oxford university</td>\n",
       "    </tr>\n",
       "    <tr>\n",
       "      <th>1</th>\n",
       "      <td>9.0</td>\n",
       "      <td>191</td>\n",
       "      <td>1600</td>\n",
       "      <td>340</td>\n",
       "      <td>80.319644</td>\n",
       "      <td>226.655537</td>\n",
       "      <td>oxford university</td>\n",
       "    </tr>\n",
       "    <tr>\n",
       "      <th>2</th>\n",
       "      <td>9.0</td>\n",
       "      <td>191</td>\n",
       "      <td>1600</td>\n",
       "      <td>340</td>\n",
       "      <td>82.320763</td>\n",
       "      <td>263.964248</td>\n",
       "      <td>oxford university</td>\n",
       "    </tr>\n",
       "    <tr>\n",
       "      <th>3</th>\n",
       "      <td>9.0</td>\n",
       "      <td>191</td>\n",
       "      <td>1600</td>\n",
       "      <td>340</td>\n",
       "      <td>80.158363</td>\n",
       "      <td>242.864034</td>\n",
       "      <td>oxford university</td>\n",
       "    </tr>\n",
       "    <tr>\n",
       "      <th>4</th>\n",
       "      <td>9.0</td>\n",
       "      <td>191</td>\n",
       "      <td>1600</td>\n",
       "      <td>340</td>\n",
       "      <td>81.604873</td>\n",
       "      <td>262.717340</td>\n",
       "      <td>oxford university</td>\n",
       "    </tr>\n",
       "  </tbody>\n",
       "</table>\n",
       "</div>"
      ],
      "text/plain": [
       "   ILTES  TOEFL   SAT  GRE    WRITING      VERBAL     UniversityName\n",
       "0    9.0    191  1600  340  82.002744  202.935536  oxford university\n",
       "1    9.0    191  1600  340  80.319644  226.655537  oxford university\n",
       "2    9.0    191  1600  340  82.320763  263.964248  oxford university\n",
       "3    9.0    191  1600  340  80.158363  242.864034  oxford university\n",
       "4    9.0    191  1600  340  81.604873  262.717340  oxford university"
      ]
     },
     "execution_count": 85,
     "metadata": {},
     "output_type": "execute_result"
    }
   ],
   "source": [
    "UniversityData.head()"
   ]
  },
  {
   "cell_type": "code",
   "execution_count": 86,
   "metadata": {
    "colab": {
     "base_uri": "https://localhost:8080/"
    },
    "id": "h4l_RaFF_PYI",
    "outputId": "aa239399-915f-481a-adfd-f0d340638d26"
   },
   "outputs": [
    {
     "data": {
      "text/plain": [
       "(2200, 7)"
      ]
     },
     "execution_count": 86,
     "metadata": {},
     "output_type": "execute_result"
    }
   ],
   "source": [
    "UniversityData.shape"
   ]
  },
  {
   "cell_type": "code",
   "execution_count": 87,
   "metadata": {
    "colab": {
     "base_uri": "https://localhost:8080/"
    },
    "id": "Gzrjv4DIupYS",
    "outputId": "b3f0df01-2184-41b0-c94d-0998b6f710e6"
   },
   "outputs": [
    {
     "name": "stdout",
     "output_type": "stream",
     "text": [
      "<class 'pandas.core.frame.DataFrame'>\n",
      "RangeIndex: 2200 entries, 0 to 2199\n",
      "Data columns (total 7 columns):\n",
      " #   Column          Non-Null Count  Dtype  \n",
      "---  ------          --------------  -----  \n",
      " 0   ILTES           2200 non-null   float64\n",
      " 1   TOEFL           2200 non-null   int64  \n",
      " 2   SAT             2200 non-null   int64  \n",
      " 3   GRE             2200 non-null   int64  \n",
      " 4   WRITING         2200 non-null   float64\n",
      " 5   VERBAL          2200 non-null   float64\n",
      " 6   UniversityName  2200 non-null   object \n",
      "dtypes: float64(3), int64(3), object(1)\n",
      "memory usage: 120.4+ KB\n"
     ]
    }
   ],
   "source": [
    "UniversityData.info()"
   ]
  },
  {
   "cell_type": "code",
   "execution_count": 88,
   "metadata": {
    "colab": {
     "base_uri": "https://localhost:8080/",
     "height": 304
    },
    "id": "RpHXQ0jSAKBL",
    "outputId": "a728fa38-2d36-4dee-bc85-54cb7c37580b"
   },
   "outputs": [
    {
     "data": {
      "text/plain": [
       "ILTES             0\n",
       "TOEFL             0\n",
       "SAT               0\n",
       "GRE               0\n",
       "WRITING           0\n",
       "VERBAL            0\n",
       "UniversityName    0\n",
       "dtype: int64"
      ]
     },
     "execution_count": 88,
     "metadata": {},
     "output_type": "execute_result"
    }
   ],
   "source": [
    "UniversityData.isnull().sum()"
   ]
  },
  {
   "cell_type": "code",
   "execution_count": 89,
   "metadata": {
    "colab": {
     "base_uri": "https://localhost:8080/"
    },
    "id": "jmz7BEeBBdcn",
    "outputId": "54b56951-5cdc-4c8e-d7b7-b54c1ffdc51e"
   },
   "outputs": [
    {
     "data": {
      "text/plain": [
       "0"
      ]
     },
     "execution_count": 89,
     "metadata": {},
     "output_type": "execute_result"
    }
   ],
   "source": [
    "UniversityData.duplicated().sum()"
   ]
  },
  {
   "cell_type": "code",
   "execution_count": 90,
   "metadata": {
    "colab": {
     "base_uri": "https://localhost:8080/",
     "height": 300
    },
    "id": "8TENOkOUBwDY",
    "outputId": "609827bc-43fd-4ec2-8be0-20d5f8275d06"
   },
   "outputs": [
    {
     "data": {
      "text/html": [
       "<div>\n",
       "<style scoped>\n",
       "    .dataframe tbody tr th:only-of-type {\n",
       "        vertical-align: middle;\n",
       "    }\n",
       "\n",
       "    .dataframe tbody tr th {\n",
       "        vertical-align: top;\n",
       "    }\n",
       "\n",
       "    .dataframe thead th {\n",
       "        text-align: right;\n",
       "    }\n",
       "</style>\n",
       "<table border=\"1\" class=\"dataframe\">\n",
       "  <thead>\n",
       "    <tr style=\"text-align: right;\">\n",
       "      <th></th>\n",
       "      <th>ILTES</th>\n",
       "      <th>TOEFL</th>\n",
       "      <th>SAT</th>\n",
       "      <th>GRE</th>\n",
       "      <th>WRITING</th>\n",
       "      <th>VERBAL</th>\n",
       "    </tr>\n",
       "  </thead>\n",
       "  <tbody>\n",
       "    <tr>\n",
       "      <th>count</th>\n",
       "      <td>2200.000000</td>\n",
       "      <td>2200.000000</td>\n",
       "      <td>2200.000000</td>\n",
       "      <td>2200.000000</td>\n",
       "      <td>2200.000000</td>\n",
       "      <td>2200.000000</td>\n",
       "    </tr>\n",
       "    <tr>\n",
       "      <th>mean</th>\n",
       "      <td>6.859545</td>\n",
       "      <td>103.520909</td>\n",
       "      <td>887.458636</td>\n",
       "      <td>242.895455</td>\n",
       "      <td>71.481779</td>\n",
       "      <td>103.463655</td>\n",
       "    </tr>\n",
       "    <tr>\n",
       "      <th>std</th>\n",
       "      <td>0.736590</td>\n",
       "      <td>28.175303</td>\n",
       "      <td>282.881210</td>\n",
       "      <td>53.210078</td>\n",
       "      <td>22.263812</td>\n",
       "      <td>54.958389</td>\n",
       "    </tr>\n",
       "    <tr>\n",
       "      <th>min</th>\n",
       "      <td>6.000000</td>\n",
       "      <td>70.000000</td>\n",
       "      <td>14.000000</td>\n",
       "      <td>120.000000</td>\n",
       "      <td>14.258040</td>\n",
       "      <td>20.211267</td>\n",
       "    </tr>\n",
       "    <tr>\n",
       "      <th>25%</th>\n",
       "      <td>6.000000</td>\n",
       "      <td>92.000000</td>\n",
       "      <td>650.000000</td>\n",
       "      <td>200.000000</td>\n",
       "      <td>60.261953</td>\n",
       "      <td>64.551686</td>\n",
       "    </tr>\n",
       "    <tr>\n",
       "      <th>50%</th>\n",
       "      <td>7.000000</td>\n",
       "      <td>95.000000</td>\n",
       "      <td>800.000000</td>\n",
       "      <td>250.000000</td>\n",
       "      <td>80.473146</td>\n",
       "      <td>94.867624</td>\n",
       "    </tr>\n",
       "    <tr>\n",
       "      <th>75%</th>\n",
       "      <td>7.500000</td>\n",
       "      <td>110.000000</td>\n",
       "      <td>1100.000000</td>\n",
       "      <td>280.000000</td>\n",
       "      <td>89.948771</td>\n",
       "      <td>124.267508</td>\n",
       "    </tr>\n",
       "    <tr>\n",
       "      <th>max</th>\n",
       "      <td>9.000000</td>\n",
       "      <td>191.000000</td>\n",
       "      <td>1600.000000</td>\n",
       "      <td>340.000000</td>\n",
       "      <td>99.981876</td>\n",
       "      <td>298.560117</td>\n",
       "    </tr>\n",
       "  </tbody>\n",
       "</table>\n",
       "</div>"
      ],
      "text/plain": [
       "             ILTES        TOEFL          SAT          GRE      WRITING  \\\n",
       "count  2200.000000  2200.000000  2200.000000  2200.000000  2200.000000   \n",
       "mean      6.859545   103.520909   887.458636   242.895455    71.481779   \n",
       "std       0.736590    28.175303   282.881210    53.210078    22.263812   \n",
       "min       6.000000    70.000000    14.000000   120.000000    14.258040   \n",
       "25%       6.000000    92.000000   650.000000   200.000000    60.261953   \n",
       "50%       7.000000    95.000000   800.000000   250.000000    80.473146   \n",
       "75%       7.500000   110.000000  1100.000000   280.000000    89.948771   \n",
       "max       9.000000   191.000000  1600.000000   340.000000    99.981876   \n",
       "\n",
       "            VERBAL  \n",
       "count  2200.000000  \n",
       "mean    103.463655  \n",
       "std      54.958389  \n",
       "min      20.211267  \n",
       "25%      64.551686  \n",
       "50%      94.867624  \n",
       "75%     124.267508  \n",
       "max     298.560117  "
      ]
     },
     "execution_count": 90,
     "metadata": {},
     "output_type": "execute_result"
    }
   ],
   "source": [
    "UniversityData.describe()"
   ]
  },
  {
   "cell_type": "code",
   "execution_count": 91,
   "metadata": {
    "colab": {
     "base_uri": "https://localhost:8080/"
    },
    "id": "XznGi9OVy5Ze",
    "outputId": "1483ce93-eb49-4843-d8d8-cf52d9a7594c"
   },
   "outputs": [
    {
     "name": "stdout",
     "output_type": "stream",
     "text": [
      "            ILTES     TOEFL       SAT       GRE   WRITING    VERBAL\n",
      "ILTES    1.000000  0.812537  0.850854  0.820068 -0.457320 -0.130026\n",
      "TOEFL    0.812537  1.000000  0.891077  0.723623 -0.328096  0.142633\n",
      "SAT      0.850854  0.891077  1.000000  0.835286 -0.564450  0.044917\n",
      "GRE      0.820068  0.723623  0.835286  1.000000 -0.554904 -0.017599\n",
      "WRITING -0.457320 -0.328096 -0.564450 -0.554904  1.000000  0.094423\n",
      "VERBAL  -0.130026  0.142633  0.044917 -0.017599  0.094423  1.000000\n"
     ]
    }
   ],
   "source": [
    "# Select only the numerical columns for correlation calculation\n",
    "numerical_columns = UniversityData.select_dtypes(include=np.number).columns\n",
    "correlation_matrix = UniversityData[numerical_columns].corr()\n",
    "\n",
    "# Display the correlation matrix\n",
    "print(correlation_matrix)"
   ]
  },
  {
   "cell_type": "code",
   "execution_count": 92,
   "metadata": {
    "colab": {
     "base_uri": "https://localhost:8080/",
     "height": 452
    },
    "id": "MuIbd_-SIFo6",
    "outputId": "bfd3ecf2-8642-45d2-ee76-973c13a28a11"
   },
   "outputs": [
    {
     "data": {
      "text/plain": [
       "<Axes: >"
      ]
     },
     "execution_count": 92,
     "metadata": {},
     "output_type": "execute_result"
    },
    {
     "data": {
      "image/png": "[encoded data removed]",
      "text/plain": [
       "<Figure size 640x480 with 2 Axes>"
      ]
     },
     "metadata": {},
     "output_type": "display_data"
    }
   ],
   "source": [
    "import seaborn as sns\n",
    "sns.heatmap(correlation_matrix)"
   ]
  },
  {
   "cell_type": "code",
   "execution_count": 93,
   "metadata": {
    "colab": {
     "base_uri": "https://localhost:8080/",
     "height": 774
    },
    "id": "_0F6ffJWoXRm",
    "outputId": "67f72737-d7a7-4c50-a780-f5d29b4b9a67"
   },
   "outputs": [
    {
     "data": {
      "text/plain": [
       "UniversityName\n",
       "Imperial College London                             200\n",
       "oxford university                                   101\n",
       "UCL                                                 100\n",
       "City University of London                           100\n",
       "Aston University                                    100\n",
       "University of Sussex                                100\n",
       "Durham University                                   100\n",
       "Lancaster University                                100\n",
       "University of Liverpool                             100\n",
       "University of Leeds                                 100\n",
       "University of Southampton                           100\n",
       "University of Bristol                               100\n",
       "University of Cambridge                             100\n",
       "University of Warwick                               100\n",
       "University of Sheffield                             100\n",
       "University of Birmingham                            100\n",
       "University of Glasgow                               100\n",
       "University of Manchester                            100\n",
       "London Schoo lof Economics and Political Science    100\n",
       "Kings College London                                100\n",
       "North umbria University                              99\n",
       "Name: count, dtype: int64"
      ]
     },
     "execution_count": 93,
     "metadata": {},
     "output_type": "execute_result"
    }
   ],
   "source": [
    "UniversityData.UniversityName.value_counts()"
   ]
  },
  {
   "cell_type": "code",
   "execution_count": 94,
   "metadata": {
    "colab": {
     "base_uri": "https://localhost:8080/"
    },
    "id": "0W0tp0pW8lmU",
    "outputId": "305557c1-89e9-4377-d0fa-cb0f25ef0ad3"
   },
   "outputs": [
    {
     "data": {
      "text/plain": [
       "array(['oxford university', 'University of Cambridge',\n",
       "       'Imperial College London', 'Kings College London',\n",
       "       'London Schoo lof Economics and Political Science',\n",
       "       'University of Manchester', 'University of Glasgow',\n",
       "       'University of Birmingham', 'University of Sheffield',\n",
       "       'University of Warwick', 'University of Bristol', 'UCL',\n",
       "       'University of Southampton', 'University of Leeds',\n",
       "       'University of Liverpool', 'Lancaster University',\n",
       "       'Durham University', 'University of Sussex', 'Aston University',\n",
       "       'City University of London', 'North umbria University'],\n",
       "      dtype=object)"
      ]
     },
     "execution_count": 94,
     "metadata": {},
     "output_type": "execute_result"
    }
   ],
   "source": [
    "UniversityData['UniversityName'].unique()"
   ]
  },
  {
   "cell_type": "code",
   "execution_count": 95,
   "metadata": {
    "colab": {
     "base_uri": "https://localhost:8080/"
    },
    "id": "FWxm2xecIXU7",
    "outputId": "6e3ba4e9-538c-4377-925c-3c8378bb34a1"
   },
   "outputs": [
    {
     "data": {
      "text/plain": [
       "21"
      ]
     },
     "execution_count": 95,
     "metadata": {},
     "output_type": "execute_result"
    }
   ],
   "source": [
    "UniversityData['UniversityName'].unique().size"
   ]
  },
  {
   "cell_type": "code",
   "execution_count": 96,
   "metadata": {
    "colab": {
     "base_uri": "https://localhost:8080/",
     "height": 506
    },
    "id": "N3ZsRVotJWy0",
    "outputId": "e22ff4f3-1bbe-4aed-be0e-aff75d4bf13e"
   },
   "outputs": [
    {
     "data": {
      "image/png": "[encoded data removed]",
      "text/plain": [
       "<Figure size 500x500 with 1 Axes>"
      ]
     },
     "metadata": {},
     "output_type": "display_data"
    }
   ],
   "source": [
    "import matplotlib.pyplot as plt\n",
    "sns.displot(UniversityData['ILTES'])\n",
    "plt.show()"
   ]
  },
  {
   "cell_type": "code",
   "execution_count": 97,
   "metadata": {
    "colab": {
     "base_uri": "https://localhost:8080/",
     "height": 507
    },
    "id": "dX8PCKEDKFxE",
    "outputId": "3d0fd1d8-ea7c-48e7-fab9-b8462407c6e3"
   },
   "outputs": [
    {
     "data": {
      "image/png": "[encoded data removed]",
      "text/plain": [
       "<Figure size 500x500 with 1 Axes>"
      ]
     },
     "metadata": {},
     "output_type": "display_data"
    }
   ],
   "source": [
    "import matplotlib.pyplot as plt\n",
    "sns.displot(UniversityData['TOEFL'])\n",
    "plt.show()\n"
   ]
  },
  {
   "cell_type": "code",
   "execution_count": 98,
   "metadata": {
    "colab": {
     "base_uri": "https://localhost:8080/",
     "height": 506
    },
    "id": "r1QyloiMQE15",
    "outputId": "58d75519-0dd4-497d-8017-ee394ac181b0"
   },
   "outputs": [
    {
     "data": {
      "image/png": "[encoded data removed]",
      "text/plain": [
       "<Figure size 500x500 with 1 Axes>"
      ]
     },
     "metadata": {},
     "output_type": "display_data"
    }
   ],
   "source": [
    "import matplotlib.pyplot as plt\n",
    "sns.displot(UniversityData['SAT'])\n",
    "plt.show()"
   ]
  },
  {
   "cell_type": "code",
   "execution_count": 99,
   "metadata": {
    "colab": {
     "base_uri": "https://localhost:8080/",
     "height": 506
    },
    "id": "gNXlvWHVq_bC",
    "outputId": "b1902621-88e6-48bc-b73f-ab130e22d699"
   },
   "outputs": [
    {
     "data": {
      "image/png": "[encoded data removed]",
      "text/plain": [
       "<Figure size 500x500 with 1 Axes>"
      ]
     },
     "metadata": {},
     "output_type": "display_data"
    }
   ],
   "source": [
    "import matplotlib.pyplot as plt\n",
    "sns.displot(UniversityData['GRE'])\n",
    "plt.show()"
   ]
  },
  {
   "cell_type": "code",
   "execution_count": 100,
   "metadata": {
    "colab": {
     "base_uri": "https://localhost:8080/",
     "height": 506
    },
    "id": "c4MK2csytj4N",
    "outputId": "598cd951-3db3-4f73-a5ac-d8be9eee7403"
   },
   "outputs": [
    {
     "data": {
      "image/png": "[encoded data removed]",
      "text/plain": [
       "<Figure size 500x500 with 1 Axes>"
      ]
     },
     "metadata": {},
     "output_type": "display_data"
    }
   ],
   "source": [
    "import matplotlib.pyplot as plt\n",
    "sns.displot(UniversityData['WRITING'])\n",
    "plt.show()"
   ]
  },
  {
   "cell_type": "code",
   "execution_count": 101,
   "metadata": {
    "colab": {
     "base_uri": "https://localhost:8080/",
     "height": 506
    },
    "id": "9AER887ctkBt",
    "outputId": "b0412a43-0a07-46ed-9a46-b15d021504dc"
   },
   "outputs": [
    {
     "data": {
      "image/png": "[encoded data removed]",
      "text/plain": [
       "<Figure size 500x500 with 1 Axes>"
      ]
     },
     "metadata": {},
     "output_type": "display_data"
    }
   ],
   "source": [
    "import matplotlib.pyplot as plt\n",
    "sns.displot(UniversityData['VERBAL'])\n",
    "plt.show()"
   ]
  },
  {
   "cell_type": "code",
   "execution_count": 102,
   "metadata": {
    "colab": {
     "base_uri": "https://localhost:8080/"
    },
    "id": "Msvl55Ji9xnw",
    "outputId": "48e74e38-a147-4cc1-fda5-9baaf0c55063"
   },
   "outputs": [
    {
     "data": {
      "text/plain": [
       "array(['oxford university', 'University of Cambridge',\n",
       "       'Imperial College London', 'Kings College London',\n",
       "       'London Schoo lof Economics and Political Science',\n",
       "       'University of Manchester', 'University of Glasgow',\n",
       "       'University of Birmingham', 'University of Sheffield',\n",
       "       'University of Warwick', 'University of Bristol', 'UCL',\n",
       "       'University of Southampton', 'University of Leeds',\n",
       "       'University of Liverpool', 'Lancaster University',\n",
       "       'Durham University', 'University of Sussex', 'Aston University',\n",
       "       'City University of London', 'North umbria University'],\n",
       "      dtype=object)"
      ]
     },
     "execution_count": 102,
     "metadata": {},
     "output_type": "execute_result"
    }
   ],
   "source": [
    "UniversityData['UniversityName'].unique()"
   ]
  },
  {
   "cell_type": "code",
   "execution_count": 103,
   "metadata": {
    "id": "oHwbz6A892_z"
   },
   "outputs": [],
   "source": [
    "UniversityData_dict={\n",
    "    'oxford university': 1,\n",
    "'University of Cambridge': 2,\n",
    "'Imperial College London': 3,\n",
    "'Kings College London': 4,\n",
    "'London Schoo lof Economics and Political Science': 5,\n",
    "'University of Manchester': 6,\n",
    "'University of Glasgow': 7,\n",
    "'University of Birmingham': 8,\n",
    "'University of Sheffield': 9,\n",
    "'University of Warwick': 10,\n",
    "'University of Bristol': 11,\n",
    "'UCL': 12,\n",
    "'University of Southampton': 13,\n",
    "'University of Leeds': 14,\n",
    "'University of Liverpool': 15,\n",
    "'Lancaster University': 16,\n",
    "'Durham University': 17,\n",
    "'University of Sussex': 18,\n",
    "'Aston University': 19,\n",
    "'City University of London': 20,\n",
    "'North umbria University': 21\n",
    "\n",
    "}\n",
    "\n",
    "UniversityData['UniversityName'] = UniversityData['UniversityName'].map(UniversityData_dict)"
   ]
  },
  {
   "cell_type": "code",
   "execution_count": 104,
   "metadata": {
    "colab": {
     "base_uri": "https://localhost:8080/",
     "height": 206
    },
    "id": "f5rwL3cdB8PN",
    "outputId": "70e0dc6e-72b5-4544-b20b-2243dbd8298f"
   },
   "outputs": [
    {
     "data": {
      "text/html": [
       "<div>\n",
       "<style scoped>\n",
       "    .dataframe tbody tr th:only-of-type {\n",
       "        vertical-align: middle;\n",
       "    }\n",
       "\n",
       "    .dataframe tbody tr th {\n",
       "        vertical-align: top;\n",
       "    }\n",
       "\n",
       "    .dataframe thead th {\n",
       "        text-align: right;\n",
       "    }\n",
       "</style>\n",
       "<table border=\"1\" class=\"dataframe\">\n",
       "  <thead>\n",
       "    <tr style=\"text-align: right;\">\n",
       "      <th></th>\n",
       "      <th>ILTES</th>\n",
       "      <th>TOEFL</th>\n",
       "      <th>SAT</th>\n",
       "      <th>GRE</th>\n",
       "      <th>WRITING</th>\n",
       "      <th>VERBAL</th>\n",
       "      <th>UniversityName</th>\n",
       "    </tr>\n",
       "  </thead>\n",
       "  <tbody>\n",
       "    <tr>\n",
       "      <th>0</th>\n",
       "      <td>9.0</td>\n",
       "      <td>191</td>\n",
       "      <td>1600</td>\n",
       "      <td>340</td>\n",
       "      <td>82.002744</td>\n",
       "      <td>202.935536</td>\n",
       "      <td>1</td>\n",
       "    </tr>\n",
       "    <tr>\n",
       "      <th>1</th>\n",
       "      <td>9.0</td>\n",
       "      <td>191</td>\n",
       "      <td>1600</td>\n",
       "      <td>340</td>\n",
       "      <td>80.319644</td>\n",
       "      <td>226.655537</td>\n",
       "      <td>1</td>\n",
       "    </tr>\n",
       "    <tr>\n",
       "      <th>2</th>\n",
       "      <td>9.0</td>\n",
       "      <td>191</td>\n",
       "      <td>1600</td>\n",
       "      <td>340</td>\n",
       "      <td>82.320763</td>\n",
       "      <td>263.964248</td>\n",
       "      <td>1</td>\n",
       "    </tr>\n",
       "    <tr>\n",
       "      <th>3</th>\n",
       "      <td>9.0</td>\n",
       "      <td>191</td>\n",
       "      <td>1600</td>\n",
       "      <td>340</td>\n",
       "      <td>80.158363</td>\n",
       "      <td>242.864034</td>\n",
       "      <td>1</td>\n",
       "    </tr>\n",
       "    <tr>\n",
       "      <th>4</th>\n",
       "      <td>9.0</td>\n",
       "      <td>191</td>\n",
       "      <td>1600</td>\n",
       "      <td>340</td>\n",
       "      <td>81.604873</td>\n",
       "      <td>262.717340</td>\n",
       "      <td>1</td>\n",
       "    </tr>\n",
       "  </tbody>\n",
       "</table>\n",
       "</div>"
      ],
      "text/plain": [
       "   ILTES  TOEFL   SAT  GRE    WRITING      VERBAL  UniversityName\n",
       "0    9.0    191  1600  340  82.002744  202.935536               1\n",
       "1    9.0    191  1600  340  80.319644  226.655537               1\n",
       "2    9.0    191  1600  340  82.320763  263.964248               1\n",
       "3    9.0    191  1600  340  80.158363  242.864034               1\n",
       "4    9.0    191  1600  340  81.604873  262.717340               1"
      ]
     },
     "execution_count": 104,
     "metadata": {},
     "output_type": "execute_result"
    }
   ],
   "source": [
    "UniversityData.head()"
   ]
  },
  {
   "cell_type": "code",
   "execution_count": 105,
   "metadata": {
    "colab": {
     "base_uri": "https://localhost:8080/"
    },
    "id": "UhE4DEGcCDvR",
    "outputId": "625ec8a3-0042-4304-f0e0-87c02cde63b7"
   },
   "outputs": [
    {
     "data": {
      "text/plain": [
       "array([ 1,  2,  3,  4,  5,  6,  7,  8,  9, 10, 11, 12, 13, 14, 15, 16, 17,\n",
       "       18, 19, 20, 21], dtype=int64)"
      ]
     },
     "execution_count": 105,
     "metadata": {},
     "output_type": "execute_result"
    }
   ],
   "source": [
    "UniversityData.UniversityName.unique()"
   ]
  },
  {
   "cell_type": "code",
   "execution_count": 106,
   "metadata": {
    "colab": {
     "base_uri": "https://localhost:8080/",
     "height": 774
    },
    "id": "pm7h-SFvCMs2",
    "outputId": "85a76db3-c070-4cc1-9f19-4a5127298edc"
   },
   "outputs": [
    {
     "data": {
      "text/plain": [
       "UniversityName\n",
       "3     200\n",
       "1     101\n",
       "12    100\n",
       "20    100\n",
       "19    100\n",
       "18    100\n",
       "17    100\n",
       "16    100\n",
       "15    100\n",
       "14    100\n",
       "13    100\n",
       "11    100\n",
       "2     100\n",
       "10    100\n",
       "9     100\n",
       "8     100\n",
       "7     100\n",
       "6     100\n",
       "5     100\n",
       "4     100\n",
       "21     99\n",
       "Name: count, dtype: int64"
      ]
     },
     "execution_count": 106,
     "metadata": {},
     "output_type": "execute_result"
    }
   ],
   "source": [
    "UniversityData.UniversityName.value_counts()"
   ]
  },
  {
   "cell_type": "code",
   "execution_count": 107,
   "metadata": {
    "id": "zrc88_v0G5OM"
   },
   "outputs": [],
   "source": [
    "X=UniversityData.drop('UniversityName',axis=1)\n",
    "y=UniversityData['UniversityName']"
   ]
  },
  {
   "cell_type": "code",
   "execution_count": 108,
   "metadata": {
    "colab": {
     "base_uri": "https://localhost:8080/",
     "height": 206
    },
    "id": "jATE8RpuHCvv",
    "outputId": "e3a05ada-17fa-49b7-fc93-20e5d77cf080"
   },
   "outputs": [
    {
     "data": {
      "text/html": [
       "<div>\n",
       "<style scoped>\n",
       "    .dataframe tbody tr th:only-of-type {\n",
       "        vertical-align: middle;\n",
       "    }\n",
       "\n",
       "    .dataframe tbody tr th {\n",
       "        vertical-align: top;\n",
       "    }\n",
       "\n",
       "    .dataframe thead th {\n",
       "        text-align: right;\n",
       "    }\n",
       "</style>\n",
       "<table border=\"1\" class=\"dataframe\">\n",
       "  <thead>\n",
       "    <tr style=\"text-align: right;\">\n",
       "      <th></th>\n",
       "      <th>ILTES</th>\n",
       "      <th>TOEFL</th>\n",
       "      <th>SAT</th>\n",
       "      <th>GRE</th>\n",
       "      <th>WRITING</th>\n",
       "      <th>VERBAL</th>\n",
       "    </tr>\n",
       "  </thead>\n",
       "  <tbody>\n",
       "    <tr>\n",
       "      <th>0</th>\n",
       "      <td>9.0</td>\n",
       "      <td>191</td>\n",
       "      <td>1600</td>\n",
       "      <td>340</td>\n",
       "      <td>82.002744</td>\n",
       "      <td>202.935536</td>\n",
       "    </tr>\n",
       "    <tr>\n",
       "      <th>1</th>\n",
       "      <td>9.0</td>\n",
       "      <td>191</td>\n",
       "      <td>1600</td>\n",
       "      <td>340</td>\n",
       "      <td>80.319644</td>\n",
       "      <td>226.655537</td>\n",
       "    </tr>\n",
       "    <tr>\n",
       "      <th>2</th>\n",
       "      <td>9.0</td>\n",
       "      <td>191</td>\n",
       "      <td>1600</td>\n",
       "      <td>340</td>\n",
       "      <td>82.320763</td>\n",
       "      <td>263.964248</td>\n",
       "    </tr>\n",
       "    <tr>\n",
       "      <th>3</th>\n",
       "      <td>9.0</td>\n",
       "      <td>191</td>\n",
       "      <td>1600</td>\n",
       "      <td>340</td>\n",
       "      <td>80.158363</td>\n",
       "      <td>242.864034</td>\n",
       "    </tr>\n",
       "    <tr>\n",
       "      <th>4</th>\n",
       "      <td>9.0</td>\n",
       "      <td>191</td>\n",
       "      <td>1600</td>\n",
       "      <td>340</td>\n",
       "      <td>81.604873</td>\n",
       "      <td>262.717340</td>\n",
       "    </tr>\n",
       "  </tbody>\n",
       "</table>\n",
       "</div>"
      ],
      "text/plain": [
       "   ILTES  TOEFL   SAT  GRE    WRITING      VERBAL\n",
       "0    9.0    191  1600  340  82.002744  202.935536\n",
       "1    9.0    191  1600  340  80.319644  226.655537\n",
       "2    9.0    191  1600  340  82.320763  263.964248\n",
       "3    9.0    191  1600  340  80.158363  242.864034\n",
       "4    9.0    191  1600  340  81.604873  262.717340"
      ]
     },
     "execution_count": 108,
     "metadata": {},
     "output_type": "execute_result"
    }
   ],
   "source": [
    "X.head()"
   ]
  },
  {
   "cell_type": "code",
   "execution_count": 109,
   "metadata": {
    "colab": {
     "base_uri": "https://localhost:8080/",
     "height": 241
    },
    "id": "tD-Cs34bHIkK",
    "outputId": "faa84470-515c-419a-e6f0-c03c98233ab1"
   },
   "outputs": [
    {
     "data": {
      "text/plain": [
       "0    1\n",
       "1    1\n",
       "2    1\n",
       "3    1\n",
       "4    1\n",
       "Name: UniversityName, dtype: int64"
      ]
     },
     "execution_count": 109,
     "metadata": {},
     "output_type": "execute_result"
    }
   ],
   "source": [
    "y.head()"
   ]
  },
  {
   "cell_type": "code",
   "execution_count": 110,
   "metadata": {
    "id": "57Cccvq_HPV-"
   },
   "outputs": [],
   "source": [
    "from sklearn.model_selection import train_test_split\n",
    "X_train,X_test,y_train,y_test=train_test_split(X,y,test_size=0.2,random_state=42)"
   ]
  },
  {
   "cell_type": "code",
   "execution_count": 111,
   "metadata": {
    "colab": {
     "base_uri": "https://localhost:8080/"
    },
    "id": "LES3BmTUHan7",
    "outputId": "599fa6e8-7ba8-43c0-eec2-c83025bb7c6a"
   },
   "outputs": [
    {
     "data": {
      "text/plain": [
       "(1760, 6)"
      ]
     },
     "execution_count": 111,
     "metadata": {},
     "output_type": "execute_result"
    }
   ],
   "source": [
    "X_train.shape"
   ]
  },
  {
   "cell_type": "code",
   "execution_count": 112,
   "metadata": {
    "id": "6oKu5YcWHlKh"
   },
   "outputs": [],
   "source": [
    "from sklearn.preprocessing import MinMaxScaler\n",
    "mx = MinMaxScaler()\n",
    "X_train = mx.fit_transform(X_train)\n",
    "X_test = mx.transform(X_test)"
   ]
  },
  {
   "cell_type": "code",
   "execution_count": 113,
   "metadata": {
    "colab": {
     "base_uri": "https://localhost:8080/"
    },
    "id": "-9fplsw_H2iK",
    "outputId": "c4aacf8d-7283-4156-c6c0-13fe3033c9b6"
   },
   "outputs": [
    {
     "data": {
      "text/plain": [
       "array([[0.        , 0.18181818, 0.36948298, 0.27272727, 0.9089898 ,\n",
       "        0.29685161],\n",
       "       [0.5       , 0.24793388, 0.55863808, 0.68181818, 0.64257946,\n",
       "        0.17630752],\n",
       "       [0.5       , 0.24793388, 0.55863808, 0.68181818, 0.57005802,\n",
       "        0.08931844],\n",
       "       ...,\n",
       "       [0.33333333, 0.20661157, 0.49558638, 0.59090909, 0.43760347,\n",
       "        0.28719815],\n",
       "       [0.16666667, 0.20661157, 0.46406053, 0.36363636, 0.76763665,\n",
       "        0.18346657],\n",
       "       [0.5       , 0.24793388, 0.55863808, 0.68181818, 0.56099735,\n",
       "        0.11879596]])"
      ]
     },
     "execution_count": 113,
     "metadata": {},
     "output_type": "execute_result"
    }
   ],
   "source": [
    "X_train"
   ]
  },
  {
   "cell_type": "code",
   "execution_count": 114,
   "metadata": {
    "id": "-WAoqewmH6kU"
   },
   "outputs": [],
   "source": [
    "from sklearn.preprocessing import StandardScaler\n",
    "sc = StandardScaler()\n",
    "sc.fit(X_train)\n",
    "X_train = sc.fit_transform(X_train)\n",
    "X_test=sc.transform(X_test)"
   ]
  },
  {
   "cell_type": "code",
   "execution_count": 115,
   "metadata": {
    "id": "lGN29-3-Ioaj"
   },
   "outputs": [],
   "source": [
    "from sklearn.linear_model import LogisticRegression\n",
    "from sklearn.naive_bayes import GaussianNB\n",
    "from sklearn.svm import SVC\n",
    "from sklearn.neighbors import KNeighborsClassifier\n",
    "from sklearn.tree import DecisionTreeClassifier, ExtraTreeClassifier\n",
    "from sklearn.ensemble import RandomForestClassifier, BaggingClassifier, GradientBoostingClassifier, AdaBoostClassifier\n",
    "from sklearn.metrics import accuracy_score, classification_report"
   ]
  },
  {
   "cell_type": "code",
   "execution_count": 116,
   "metadata": {
    "id": "mIAHSRpRJR1Q"
   },
   "outputs": [],
   "source": [
    "models = {\n",
    "    'LogisticRegression': LogisticRegression(),\n",
    "    'GaussianNB': GaussianNB(),\n",
    "    'SVC': SVC(),\n",
    "    'KNeighborsClassifier': KNeighborsClassifier(),\n",
    "    'DecisionTreeClassifier': DecisionTreeClassifier(),\n",
    "    'ExtraTreeClassifier': ExtraTreeClassifier(),\n",
    "    'RandomForestClassifier': RandomForestClassifier(),\n",
    "    'BaggingClassifier': BaggingClassifier(),\n",
    "    'GradientBoostingClassifier': GradientBoostingClassifier(),\n",
    "\n",
    "}\n"
   ]
  },
  {
   "cell_type": "code",
   "execution_count": 117,
   "metadata": {
    "colab": {
     "base_uri": "https://localhost:8080/"
    },
    "id": "LCAH4GjhJ8Od",
    "outputId": "0db252b7-6056-40d0-cd6f-6c8eda4b5f79"
   },
   "outputs": [
    {
     "name": "stdout",
     "output_type": "stream",
     "text": [
      "LogisticRegression model with accuracy: 0.9136363636363637\n",
      "GaussianNB model with accuracy: 0.8090909090909091\n",
      "SVC model with accuracy: 0.9090909090909091\n",
      "KNeighborsClassifier model with accuracy: 0.9568181818181818\n",
      "DecisionTreeClassifier model with accuracy: 0.9454545454545454\n",
      "ExtraTreeClassifier model with accuracy: 0.9454545454545454\n",
      "RandomForestClassifier model with accuracy: 0.9659090909090909\n",
      "BaggingClassifier model with accuracy: 0.9590909090909091\n",
      "GradientBoostingClassifier model with accuracy: 0.9613636363636363\n"
     ]
    }
   ],
   "source": [
    "for name, model in models.items():\n",
    "    model.fit(X_train, y_train)\n",
    "    y_pred = model.predict(X_test)\n",
    "    score = accuracy_score(y_test, y_pred)\n",
    "    print(f\"{name} model with accuracy: {score}\")"
   ]
  },
  {
   "cell_type": "code",
   "execution_count": 118,
   "metadata": {
    "colab": {
     "base_uri": "https://localhost:8080/"
    },
    "id": "KRCqg4FFKLVj",
    "outputId": "ef52a971-0044-4fb7-dd81-5608b32ac220"
   },
   "outputs": [
    {
     "name": "stdout",
     "output_type": "stream",
     "text": [
      "Random Forest Classifier model with accuracy: 0.9659090909090909\n"
     ]
    }
   ],
   "source": [
    "randclf = RandomForestClassifier()\n",
    "randclf.fit(X_train, y_train)\n",
    "y_pred = randclf.predict(X_test)\n",
    "score = accuracy_score(y_test, y_pred)\n",
    "print(f\"Random Forest Classifier model with accuracy: {score}\")"
   ]
  },
  {
   "cell_type": "code",
   "execution_count": 119,
   "metadata": {
    "colab": {
     "base_uri": "https://localhost:8080/"
    },
    "id": "rgFa79biLPQW",
    "outputId": "75022512-7f4a-4bd2-a85e-67062000e79f"
   },
   "outputs": [
    {
     "data": {
      "text/plain": [
       "Index(['ILTES', 'TOEFL', 'SAT', 'GRE', 'WRITING', 'VERBAL', 'UniversityName'], dtype='object')"
      ]
     },
     "execution_count": 119,
     "metadata": {},
     "output_type": "execute_result"
    }
   ],
   "source": [
    "UniversityData.columns"
   ]
  },
  {
   "cell_type": "code",
   "execution_count": 120,
   "metadata": {
    "id": "FGH5hEavLbFz"
   },
   "outputs": [],
   "source": [
    "def recommendation(ILTES, TOEFL, SAT, GRE, WRITING, VERBAL):\n",
    "  features = np.array([[ILTES, TOEFL, SAT, GRE, WRITING, VERBAL]])\n",
    "  mx_features = mx.transform(features)\n",
    "  sc_mx_features = sc.transform(mx_features)\n",
    "  prediction = randclf.predict(sc_mx_features).reshape(1, -1)\n",
    "  return prediction[0]"
   ]
  },
  {
   "cell_type": "code",
   "execution_count": 121,
   "metadata": {
    "colab": {
     "base_uri": "https://localhost:8080/",
     "height": 206
    },
    "id": "L4kCMYNAOwf1",
    "outputId": "cbcdab03-370f-4119-8b08-2930caa36296"
   },
   "outputs": [
    {
     "data": {
      "text/html": [
       "<div>\n",
       "<style scoped>\n",
       "    .dataframe tbody tr th:only-of-type {\n",
       "        vertical-align: middle;\n",
       "    }\n",
       "\n",
       "    .dataframe tbody tr th {\n",
       "        vertical-align: top;\n",
       "    }\n",
       "\n",
       "    .dataframe thead th {\n",
       "        text-align: right;\n",
       "    }\n",
       "</style>\n",
       "<table border=\"1\" class=\"dataframe\">\n",
       "  <thead>\n",
       "    <tr style=\"text-align: right;\">\n",
       "      <th></th>\n",
       "      <th>ILTES</th>\n",
       "      <th>TOEFL</th>\n",
       "      <th>SAT</th>\n",
       "      <th>GRE</th>\n",
       "      <th>WRITING</th>\n",
       "      <th>VERBAL</th>\n",
       "      <th>UniversityName</th>\n",
       "    </tr>\n",
       "  </thead>\n",
       "  <tbody>\n",
       "    <tr>\n",
       "      <th>0</th>\n",
       "      <td>9.0</td>\n",
       "      <td>191</td>\n",
       "      <td>1600</td>\n",
       "      <td>340</td>\n",
       "      <td>82.002744</td>\n",
       "      <td>202.935536</td>\n",
       "      <td>1</td>\n",
       "    </tr>\n",
       "    <tr>\n",
       "      <th>1</th>\n",
       "      <td>9.0</td>\n",
       "      <td>191</td>\n",
       "      <td>1600</td>\n",
       "      <td>340</td>\n",
       "      <td>80.319644</td>\n",
       "      <td>226.655537</td>\n",
       "      <td>1</td>\n",
       "    </tr>\n",
       "    <tr>\n",
       "      <th>2</th>\n",
       "      <td>9.0</td>\n",
       "      <td>191</td>\n",
       "      <td>1600</td>\n",
       "      <td>340</td>\n",
       "      <td>82.320763</td>\n",
       "      <td>263.964248</td>\n",
       "      <td>1</td>\n",
       "    </tr>\n",
       "    <tr>\n",
       "      <th>3</th>\n",
       "      <td>9.0</td>\n",
       "      <td>191</td>\n",
       "      <td>1600</td>\n",
       "      <td>340</td>\n",
       "      <td>80.158363</td>\n",
       "      <td>242.864034</td>\n",
       "      <td>1</td>\n",
       "    </tr>\n",
       "    <tr>\n",
       "      <th>4</th>\n",
       "      <td>9.0</td>\n",
       "      <td>191</td>\n",
       "      <td>1600</td>\n",
       "      <td>340</td>\n",
       "      <td>81.604873</td>\n",
       "      <td>262.717340</td>\n",
       "      <td>1</td>\n",
       "    </tr>\n",
       "  </tbody>\n",
       "</table>\n",
       "</div>"
      ],
      "text/plain": [
       "   ILTES  TOEFL   SAT  GRE    WRITING      VERBAL  UniversityName\n",
       "0    9.0    191  1600  340  82.002744  202.935536               1\n",
       "1    9.0    191  1600  340  80.319644  226.655537               1\n",
       "2    9.0    191  1600  340  82.320763  263.964248               1\n",
       "3    9.0    191  1600  340  80.158363  242.864034               1\n",
       "4    9.0    191  1600  340  81.604873  262.717340               1"
      ]
     },
     "execution_count": 121,
     "metadata": {},
     "output_type": "execute_result"
    }
   ],
   "source": [
    "UniversityData.head()"
   ]
  },
  {
   "cell_type": "code",
   "execution_count": 122,
   "metadata": {
    "colab": {
     "base_uri": "https://localhost:8080/"
    },
    "id": "H2cEPfUrPb12",
    "outputId": "6a412552-a0be-46c4-fac4-9533c90301a5"
   },
   "outputs": [
    {
     "name": "stderr",
     "output_type": "stream",
     "text": [
      "C:\\Users\\Othoi\\anaconda3\\Lib\\site-packages\\sklearn\\base.py:493: UserWarning: X does not have valid feature names, but MinMaxScaler was fitted with feature names\n",
      "  warnings.warn(\n"
     ]
    }
   ],
   "source": [
    "ILTES=7\n",
    "TOEFL=85\n",
    "SAT=1200\n",
    "GRE=320\n",
    "WRITING=80\n",
    "VERBAL=262\n",
    "\n",
    "predict = recommendation(ILTES, TOEFL, SAT, GRE, WRITING, VERBAL)\n"
   ]
  },
  {
   "cell_type": "code",
   "execution_count": 123,
   "metadata": {
    "colab": {
     "base_uri": "https://localhost:8080/"
    },
    "id": "c_5xXQBN0vh9",
    "outputId": "5d139465-a63f-47a2-e1c9-9dbebbd8d89b"
   },
   "outputs": [
    {
     "name": "stdout",
     "output_type": "stream",
     "text": [
      "[5]\n"
     ]
    }
   ],
   "source": [
    "print(predict)"
   ]
  },
  {
   "cell_type": "code",
   "execution_count": 124,
   "metadata": {},
   "outputs": [],
   "source": [
    "import pickle\n",
    "\n",
    "pickle.dump(randclf, open('model.pkl', 'wb'))\n",
    "pickle.dump(mx, open('minmaxscaler.pkl', 'wb')) # Changed to dump mx\n",
    "pickle.dump(sc, open('standscaler.pkl', 'wb')) # Changed to dump sc"
   ]
  }
 ],
 "metadata": {
  "colab": {
   "provenance": []
  },
  "kernelspec": {
   "display_name": "Python [conda env:anaconda3]",
   "language": "python",
   "name": "conda-env-anaconda3-py"
  },
  "language_info": {
   "codemirror_mode": {
    "name": "ipython",
    "version": 3
   },
   "file_extension": ".py",
   "mimetype": "text/x-python",
   "name": "python",
   "nbconvert_exporter": "python",
   "pygments_lexer": "ipython3",
   "version": "3.12.4"
  }
 },
 "nbformat": 4,
 "nbformat_minor": 4
}
